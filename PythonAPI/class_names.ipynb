{
 "cells": [
  {
   "cell_type": "code",
   "execution_count": 2,
   "metadata": {},
   "outputs": [],
   "source": [
    "import json\n",
    "from matplotlib import pyplot as plt"
   ]
  },
  {
   "cell_type": "code",
   "execution_count": 8,
   "metadata": {},
   "outputs": [],
   "source": [
    "obj_training = json.load(open(\"/home/linu/personal/Data/d2s_annotations_v1.1/annotations/D2S_training.json\"))"
   ]
  },
  {
   "cell_type": "code",
   "execution_count": 9,
   "metadata": {},
   "outputs": [
    {
     "output_type": "execute_result",
     "data": {
      "text/plain": "dict_keys(['images', 'info', 'licenses', 'annotations', 'categories'])"
     },
     "metadata": {},
     "execution_count": 9
    }
   ],
   "source": [
    "obj_training.keys()"
   ]
  },
  {
   "cell_type": "code",
   "execution_count": 11,
   "metadata": {},
   "outputs": [
    {
     "output_type": "execute_result",
     "data": {
      "text/plain": "[{'supercategory': 'tea', 'id': 46, 'name': 'gepa_bio_und_fair_fencheltee'},\n {'supercategory': 'tea',\n  'id': 48,\n  'name': 'gepa_bio_und_fair_kraeuterteemischung'},\n {'supercategory': 'tea', 'id': 47, 'name': 'gepa_bio_und_fair_kamillentee'},\n {'supercategory': 'tea', 'id': 45, 'name': 'ethiquable_gruener_tee_ceylon'},\n {'supercategory': 'tea',\n  'id': 49,\n  'name': 'gepa_bio_und_fair_pfefferminztee'},\n {'supercategory': 'tea', 'id': 50, 'name': 'gepa_bio_und_fair_rooibostee'},\n {'supercategory': 'tea', 'id': 51, 'name': 'kilimanjaro_tea_earl_grey'},\n {'supercategory': 'cereals', 'id': 17, 'name': 'koelln_muesli_fruechte'},\n {'supercategory': 'cereals', 'id': 18, 'name': 'koelln_muesli_schoko'},\n {'supercategory': 'cereals',\n  'id': 16,\n  'name': 'dr_oetker_vitalis_knuspermuesli_klassisch'},\n {'supercategory': 'packaged cereal bars', 'id': 12, 'name': 'corny_nussvoll'},\n {'supercategory': 'packaged cereal bars',\n  'id': 14,\n  'name': 'corny_schoko_banane'},\n {'supercategory': 'ink cartridge',\n  'id': 44,\n  'name': 'pelikan_tintenpatrone_canon'},\n {'supercategory': 'salad', 'id': 55, 'name': 'lettuce'},\n {'supercategory': 'carrots', 'id': 53, 'name': 'carrot'},\n {'supercategory': 'cucumbers', 'id': 52, 'name': 'cucumber'},\n {'supercategory': 'zucchinis', 'id': 60, 'name': 'zucchini'},\n {'supercategory': 'apples', 'id': 26, 'name': 'apple_golden_delicious'},\n {'supercategory': 'apples', 'id': 27, 'name': 'apple_granny_smith'},\n {'supercategory': 'apples', 'id': 28, 'name': 'apple_red_boskoop'},\n {'supercategory': 'orange citrus', 'id': 37, 'name': 'orange_single'},\n {'supercategory': 'orange citrus', 'id': 33, 'name': 'clementine_single'},\n {'supercategory': 'avocados', 'id': 29, 'name': 'avocado'},\n {'supercategory': 'bananas', 'id': 30, 'name': 'banana_bundle'},\n {'supercategory': 'bananas', 'id': 31, 'name': 'banana_single'},\n {'supercategory': 'kiwis', 'id': 36, 'name': 'kiwi'},\n {'supercategory': 'pears', 'id': 39, 'name': 'pear'},\n {'supercategory': 'board eraser', 'id': 43, 'name': 'franken_tafelreiniger'},\n {'supercategory': 'canned soft drink',\n  'id': 10,\n  'name': 'suntory_gokuri_lemonade'},\n {'supercategory': 'pasta', 'id': 40, 'name': 'pasta_reggia_elicoidali'},\n {'supercategory': 'pasta', 'id': 41, 'name': 'pasta_reggia_fusilli'},\n {'supercategory': 'pasta', 'id': 42, 'name': 'pasta_reggia_spaghetti'},\n {'supercategory': 'textured packaging', 'id': 19, 'name': 'caona_cocoa'},\n {'supercategory': 'textured packaging',\n  'id': 21,\n  'name': 'cafe_wunderbar_espresso'},\n {'supercategory': 'textured packaging',\n  'id': 24,\n  'name': 'gepa_italienischer_bio_espresso'},\n {'supercategory': 'textured packaging',\n  'id': 22,\n  'name': 'douwe_egberts_professional_ground_coffee'},\n {'supercategory': 'textured packaging',\n  'id': 13,\n  'name': 'corny_nussvoll_single'},\n {'supercategory': 'textured packaging',\n  'id': 15,\n  'name': 'corny_schoko_banane_single'},\n {'supercategory': 'textured packaging',\n  'id': 23,\n  'name': 'gepa_bio_caffe_crema'},\n {'supercategory': 'textured packaging', 'id': 20, 'name': 'cocoba_cocoa'},\n {'supercategory': 'plastic tray',\n  'id': 34,\n  'name': 'grapes_green_sugraone_seedless'},\n {'supercategory': 'plastic tray', 'id': 54, 'name': 'corn_salad'},\n {'supercategory': 'plastic tray', 'id': 58, 'name': 'rocket'},\n {'supercategory': 'plastic tray',\n  'id': 35,\n  'name': 'grapes_sweet_celebration_seedless'},\n {'supercategory': 'nets', 'id': 38, 'name': 'oranges'},\n {'supercategory': 'nets', 'id': 32, 'name': 'clementine'},\n {'supercategory': 'foil', 'id': 59, 'name': 'salad_iceberg'},\n {'supercategory': 'cardboard tray', 'id': 56, 'name': 'vine_tomatoes'},\n {'supercategory': 'cardboard tray',\n  'id': 25,\n  'name': 'apple_braeburn_bundle'},\n {'supercategory': 'cardboard tray', 'id': 57, 'name': 'roma_vine_tomatoes'},\n {'supercategory': 'water',\n  'id': 1,\n  'name': 'adelholzener_alpenquelle_classic_075'},\n {'supercategory': 'water',\n  'id': 2,\n  'name': 'adelholzener_alpenquelle_naturell_075'},\n {'supercategory': 'water',\n  'id': 4,\n  'name': 'adelholzener_classic_naturell_02'},\n {'supercategory': 'coca cola', 'id': 8, 'name': 'coca_cola_05'},\n {'supercategory': 'coca cola', 'id': 9, 'name': 'coca_cola_light_05'},\n {'supercategory': 'apple spritzer',\n  'id': 3,\n  'name': 'adelholzener_classic_bio_apfelschorle_02'},\n {'supercategory': 'brown glass',\n  'id': 6,\n  'name': 'augustiner_lagerbraeu_hell_05'},\n {'supercategory': 'brown glass', 'id': 7, 'name': 'augustiner_weissbier_05'},\n {'supercategory': 'brown glass', 'id': 11, 'name': 'tegernseer_hell_03'},\n {'supercategory': 'blue glass',\n  'id': 5,\n  'name': 'adelholzener_gourmet_mineralwasser_02'}]"
     },
     "metadata": {},
     "execution_count": 11
    }
   ],
   "source": [
    "obj_training[\"categories\"]"
   ]
  },
  {
   "cell_type": "code",
   "execution_count": 7,
   "metadata": {},
   "outputs": [],
   "source": [
    "obj_validation = json.load(open(\"/home/linu/personal/Data/d2s_annotations_v1.1/annotations/D2S_validation.json\"))"
   ]
  },
  {
   "cell_type": "code",
   "execution_count": 3,
   "metadata": {},
   "outputs": [],
   "source": [
    "obj_test = json.load(open(\"/home/linu/personal/Data/d2s_annotations_v1.1/annotations/D2S_test_info.json\"))"
   ]
  },
  {
   "cell_type": "code",
   "execution_count": 13,
   "metadata": {},
   "outputs": [],
   "source": [
    "names_list = []"
   ]
  },
  {
   "cell_type": "code",
   "execution_count": 14,
   "metadata": {},
   "outputs": [
    {
     "output_type": "execute_result",
     "data": {
      "text/plain": "60"
     },
     "metadata": {},
     "execution_count": 14
    }
   ],
   "source": [
    "len(obj_training[\"categories\"])"
   ]
  },
  {
   "cell_type": "code",
   "execution_count": 18,
   "metadata": {},
   "outputs": [
    {
     "output_type": "execute_result",
     "data": {
      "text/plain": "60"
     },
     "metadata": {},
     "execution_count": 18
    }
   ],
   "source": [
    "len(obj_test[\"categories\"])"
   ]
  },
  {
   "cell_type": "code",
   "execution_count": 19,
   "metadata": {},
   "outputs": [
    {
     "output_type": "execute_result",
     "data": {
      "text/plain": "60"
     },
     "metadata": {},
     "execution_count": 19
    }
   ],
   "source": [
    "len(obj_validation[\"categories\"])"
   ]
  },
  {
   "cell_type": "code",
   "execution_count": 21,
   "metadata": {},
   "outputs": [
    {
     "output_type": "execute_result",
     "data": {
      "text/plain": "[{'supercategory': 'tea', 'id': 46, 'name': 'gepa_bio_und_fair_fencheltee'},\n {'supercategory': 'tea',\n  'id': 48,\n  'name': 'gepa_bio_und_fair_kraeuterteemischung'},\n {'supercategory': 'tea', 'id': 47, 'name': 'gepa_bio_und_fair_kamillentee'},\n {'supercategory': 'tea', 'id': 45, 'name': 'ethiquable_gruener_tee_ceylon'},\n {'supercategory': 'tea',\n  'id': 49,\n  'name': 'gepa_bio_und_fair_pfefferminztee'},\n {'supercategory': 'tea', 'id': 50, 'name': 'gepa_bio_und_fair_rooibostee'},\n {'supercategory': 'tea', 'id': 51, 'name': 'kilimanjaro_tea_earl_grey'},\n {'supercategory': 'cereals', 'id': 17, 'name': 'koelln_muesli_fruechte'},\n {'supercategory': 'cereals', 'id': 18, 'name': 'koelln_muesli_schoko'},\n {'supercategory': 'cereals',\n  'id': 16,\n  'name': 'dr_oetker_vitalis_knuspermuesli_klassisch'},\n {'supercategory': 'packaged cereal bars', 'id': 12, 'name': 'corny_nussvoll'},\n {'supercategory': 'packaged cereal bars',\n  'id': 14,\n  'name': 'corny_schoko_banane'},\n {'supercategory': 'ink cartridge',\n  'id': 44,\n  'name': 'pelikan_tintenpatrone_canon'},\n {'supercategory': 'salad', 'id': 55, 'name': 'lettuce'},\n {'supercategory': 'carrots', 'id': 53, 'name': 'carrot'},\n {'supercategory': 'cucumbers', 'id': 52, 'name': 'cucumber'},\n {'supercategory': 'zucchinis', 'id': 60, 'name': 'zucchini'},\n {'supercategory': 'apples', 'id': 26, 'name': 'apple_golden_delicious'},\n {'supercategory': 'apples', 'id': 27, 'name': 'apple_granny_smith'},\n {'supercategory': 'apples', 'id': 28, 'name': 'apple_red_boskoop'},\n {'supercategory': 'orange citrus', 'id': 37, 'name': 'orange_single'},\n {'supercategory': 'orange citrus', 'id': 33, 'name': 'clementine_single'},\n {'supercategory': 'avocados', 'id': 29, 'name': 'avocado'},\n {'supercategory': 'bananas', 'id': 30, 'name': 'banana_bundle'},\n {'supercategory': 'bananas', 'id': 31, 'name': 'banana_single'},\n {'supercategory': 'kiwis', 'id': 36, 'name': 'kiwi'},\n {'supercategory': 'pears', 'id': 39, 'name': 'pear'},\n {'supercategory': 'board eraser', 'id': 43, 'name': 'franken_tafelreiniger'},\n {'supercategory': 'canned soft drink',\n  'id': 10,\n  'name': 'suntory_gokuri_lemonade'},\n {'supercategory': 'pasta', 'id': 40, 'name': 'pasta_reggia_elicoidali'},\n {'supercategory': 'pasta', 'id': 41, 'name': 'pasta_reggia_fusilli'},\n {'supercategory': 'pasta', 'id': 42, 'name': 'pasta_reggia_spaghetti'},\n {'supercategory': 'textured packaging', 'id': 19, 'name': 'caona_cocoa'},\n {'supercategory': 'textured packaging',\n  'id': 21,\n  'name': 'cafe_wunderbar_espresso'},\n {'supercategory': 'textured packaging',\n  'id': 24,\n  'name': 'gepa_italienischer_bio_espresso'},\n {'supercategory': 'textured packaging',\n  'id': 22,\n  'name': 'douwe_egberts_professional_ground_coffee'},\n {'supercategory': 'textured packaging',\n  'id': 13,\n  'name': 'corny_nussvoll_single'},\n {'supercategory': 'textured packaging',\n  'id': 15,\n  'name': 'corny_schoko_banane_single'},\n {'supercategory': 'textured packaging',\n  'id': 23,\n  'name': 'gepa_bio_caffe_crema'},\n {'supercategory': 'textured packaging', 'id': 20, 'name': 'cocoba_cocoa'},\n {'supercategory': 'plastic tray',\n  'id': 34,\n  'name': 'grapes_green_sugraone_seedless'},\n {'supercategory': 'plastic tray', 'id': 54, 'name': 'corn_salad'},\n {'supercategory': 'plastic tray', 'id': 58, 'name': 'rocket'},\n {'supercategory': 'plastic tray',\n  'id': 35,\n  'name': 'grapes_sweet_celebration_seedless'},\n {'supercategory': 'nets', 'id': 38, 'name': 'oranges'},\n {'supercategory': 'nets', 'id': 32, 'name': 'clementine'},\n {'supercategory': 'foil', 'id': 59, 'name': 'salad_iceberg'},\n {'supercategory': 'cardboard tray', 'id': 56, 'name': 'vine_tomatoes'},\n {'supercategory': 'cardboard tray',\n  'id': 25,\n  'name': 'apple_braeburn_bundle'},\n {'supercategory': 'cardboard tray', 'id': 57, 'name': 'roma_vine_tomatoes'},\n {'supercategory': 'water',\n  'id': 1,\n  'name': 'adelholzener_alpenquelle_classic_075'},\n {'supercategory': 'water',\n  'id': 2,\n  'name': 'adelholzener_alpenquelle_naturell_075'},\n {'supercategory': 'water',\n  'id': 4,\n  'name': 'adelholzener_classic_naturell_02'},\n {'supercategory': 'coca cola', 'id': 8, 'name': 'coca_cola_05'},\n {'supercategory': 'coca cola', 'id': 9, 'name': 'coca_cola_light_05'},\n {'supercategory': 'apple spritzer',\n  'id': 3,\n  'name': 'adelholzener_classic_bio_apfelschorle_02'},\n {'supercategory': 'brown glass',\n  'id': 6,\n  'name': 'augustiner_lagerbraeu_hell_05'},\n {'supercategory': 'brown glass', 'id': 7, 'name': 'augustiner_weissbier_05'},\n {'supercategory': 'brown glass', 'id': 11, 'name': 'tegernseer_hell_03'},\n {'supercategory': 'blue glass',\n  'id': 5,\n  'name': 'adelholzener_gourmet_mineralwasser_02'}]"
     },
     "metadata": {},
     "execution_count": 21
    }
   ],
   "source": [
    "obj_validation[\"categories\"]"
   ]
  },
  {
   "cell_type": "code",
   "execution_count": 23,
   "metadata": {},
   "outputs": [
    {
     "output_type": "execute_result",
     "data": {
      "text/plain": "[{'supercategory': 'tea', 'id': 46, 'name': 'gepa_bio_und_fair_fencheltee'},\n {'supercategory': 'tea',\n  'id': 48,\n  'name': 'gepa_bio_und_fair_kraeuterteemischung'},\n {'supercategory': 'tea', 'id': 47, 'name': 'gepa_bio_und_fair_kamillentee'},\n {'supercategory': 'tea', 'id': 45, 'name': 'ethiquable_gruener_tee_ceylon'},\n {'supercategory': 'tea',\n  'id': 49,\n  'name': 'gepa_bio_und_fair_pfefferminztee'},\n {'supercategory': 'tea', 'id': 50, 'name': 'gepa_bio_und_fair_rooibostee'},\n {'supercategory': 'tea', 'id': 51, 'name': 'kilimanjaro_tea_earl_grey'},\n {'supercategory': 'cereals', 'id': 17, 'name': 'koelln_muesli_fruechte'},\n {'supercategory': 'cereals', 'id': 18, 'name': 'koelln_muesli_schoko'},\n {'supercategory': 'cereals',\n  'id': 16,\n  'name': 'dr_oetker_vitalis_knuspermuesli_klassisch'},\n {'supercategory': 'packaged cereal bars', 'id': 12, 'name': 'corny_nussvoll'},\n {'supercategory': 'packaged cereal bars',\n  'id': 14,\n  'name': 'corny_schoko_banane'},\n {'supercategory': 'ink cartridge',\n  'id': 44,\n  'name': 'pelikan_tintenpatrone_canon'},\n {'supercategory': 'salad', 'id': 55, 'name': 'lettuce'},\n {'supercategory': 'carrots', 'id': 53, 'name': 'carrot'},\n {'supercategory': 'cucumbers', 'id': 52, 'name': 'cucumber'},\n {'supercategory': 'zucchinis', 'id': 60, 'name': 'zucchini'},\n {'supercategory': 'apples', 'id': 26, 'name': 'apple_golden_delicious'},\n {'supercategory': 'apples', 'id': 27, 'name': 'apple_granny_smith'},\n {'supercategory': 'apples', 'id': 28, 'name': 'apple_red_boskoop'},\n {'supercategory': 'orange citrus', 'id': 37, 'name': 'orange_single'},\n {'supercategory': 'orange citrus', 'id': 33, 'name': 'clementine_single'},\n {'supercategory': 'avocados', 'id': 29, 'name': 'avocado'},\n {'supercategory': 'bananas', 'id': 30, 'name': 'banana_bundle'},\n {'supercategory': 'bananas', 'id': 31, 'name': 'banana_single'},\n {'supercategory': 'kiwis', 'id': 36, 'name': 'kiwi'},\n {'supercategory': 'pears', 'id': 39, 'name': 'pear'},\n {'supercategory': 'board eraser', 'id': 43, 'name': 'franken_tafelreiniger'},\n {'supercategory': 'canned soft drink',\n  'id': 10,\n  'name': 'suntory_gokuri_lemonade'},\n {'supercategory': 'pasta', 'id': 40, 'name': 'pasta_reggia_elicoidali'},\n {'supercategory': 'pasta', 'id': 41, 'name': 'pasta_reggia_fusilli'},\n {'supercategory': 'pasta', 'id': 42, 'name': 'pasta_reggia_spaghetti'},\n {'supercategory': 'textured packaging', 'id': 19, 'name': 'caona_cocoa'},\n {'supercategory': 'textured packaging',\n  'id': 21,\n  'name': 'cafe_wunderbar_espresso'},\n {'supercategory': 'textured packaging',\n  'id': 24,\n  'name': 'gepa_italienischer_bio_espresso'},\n {'supercategory': 'textured packaging',\n  'id': 22,\n  'name': 'douwe_egberts_professional_ground_coffee'},\n {'supercategory': 'textured packaging',\n  'id': 13,\n  'name': 'corny_nussvoll_single'},\n {'supercategory': 'textured packaging',\n  'id': 15,\n  'name': 'corny_schoko_banane_single'},\n {'supercategory': 'textured packaging',\n  'id': 23,\n  'name': 'gepa_bio_caffe_crema'},\n {'supercategory': 'textured packaging', 'id': 20, 'name': 'cocoba_cocoa'},\n {'supercategory': 'plastic tray',\n  'id': 34,\n  'name': 'grapes_green_sugraone_seedless'},\n {'supercategory': 'plastic tray', 'id': 54, 'name': 'corn_salad'},\n {'supercategory': 'plastic tray', 'id': 58, 'name': 'rocket'},\n {'supercategory': 'plastic tray',\n  'id': 35,\n  'name': 'grapes_sweet_celebration_seedless'},\n {'supercategory': 'nets', 'id': 38, 'name': 'oranges'},\n {'supercategory': 'nets', 'id': 32, 'name': 'clementine'},\n {'supercategory': 'foil', 'id': 59, 'name': 'salad_iceberg'},\n {'supercategory': 'cardboard tray', 'id': 56, 'name': 'vine_tomatoes'},\n {'supercategory': 'cardboard tray',\n  'id': 25,\n  'name': 'apple_braeburn_bundle'},\n {'supercategory': 'cardboard tray', 'id': 57, 'name': 'roma_vine_tomatoes'},\n {'supercategory': 'water',\n  'id': 1,\n  'name': 'adelholzener_alpenquelle_classic_075'},\n {'supercategory': 'water',\n  'id': 2,\n  'name': 'adelholzener_alpenquelle_naturell_075'},\n {'supercategory': 'water',\n  'id': 4,\n  'name': 'adelholzener_classic_naturell_02'},\n {'supercategory': 'coca cola', 'id': 8, 'name': 'coca_cola_05'},\n {'supercategory': 'coca cola', 'id': 9, 'name': 'coca_cola_light_05'},\n {'supercategory': 'apple spritzer',\n  'id': 3,\n  'name': 'adelholzener_classic_bio_apfelschorle_02'},\n {'supercategory': 'brown glass',\n  'id': 6,\n  'name': 'augustiner_lagerbraeu_hell_05'},\n {'supercategory': 'brown glass', 'id': 7, 'name': 'augustiner_weissbier_05'},\n {'supercategory': 'brown glass', 'id': 11, 'name': 'tegernseer_hell_03'},\n {'supercategory': 'blue glass',\n  'id': 5,\n  'name': 'adelholzener_gourmet_mineralwasser_02'}]"
     },
     "metadata": {},
     "execution_count": 23
    }
   ],
   "source": [
    "obj_test[\"categories\"]"
   ]
  },
  {
   "cell_type": "code",
   "execution_count": 25,
   "metadata": {},
   "outputs": [],
   "source": [
    "#all the files have same categories object, so writing only one \n",
    "with open(\"d2s.names\",'w') as f:\n",
    "    for elem in obj_training[\"categories\"]:\n",
    "        f.write(elem['name'])\n",
    "        f.write(\"\\n\")\n"
   ]
  },
  {
   "cell_type": "code",
   "execution_count": 4,
   "metadata": {},
   "outputs": [
    {
     "output_type": "execute_result",
     "data": {
      "text/plain": "dict_keys(['images', 'info', 'licenses', 'categories'])"
     },
     "metadata": {},
     "execution_count": 4
    }
   ],
   "source": [
    "obj_test.keys()"
   ]
  },
  {
   "cell_type": "code",
   "execution_count": null,
   "metadata": {},
   "outputs": [],
   "source": []
  }
 ],
 "metadata": {
  "kernelspec": {
   "display_name": "tensorflow",
   "language": "python",
   "name": "tensorflow"
  },
  "language_info": {
   "codemirror_mode": {
    "name": "ipython",
    "version": 3
   },
   "file_extension": ".py",
   "mimetype": "text/x-python",
   "name": "python",
   "nbconvert_exporter": "python",
   "pygments_lexer": "ipython3",
   "version": "3.6.10-final"
  }
 },
 "nbformat": 4,
 "nbformat_minor": 4
}