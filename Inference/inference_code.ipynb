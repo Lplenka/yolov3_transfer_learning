{
  "nbformat": 4,
  "nbformat_minor": 0,
  "metadata": {
    "colab": {
      "name": "code.ipynb",
      "provenance": [],
      "collapsed_sections": []
    },
    "kernelspec": {
      "name": "python3",
      "display_name": "Python 3"
    }
  },
  "cells": [
    {
      "cell_type": "code",
      "metadata": {
        "id": "PzyxdinsWeLv",
        "colab_type": "code",
        "colab": {}
      },
      "source": [
        "from google.colab import drive"
      ],
      "execution_count": 0,
      "outputs": []
    },
    {
      "cell_type": "code",
      "metadata": {
        "id": "sgQ9XM7_XDw0",
        "colab_type": "code",
        "outputId": "83f5497e-b81e-4218-abfa-ed8b13210f40",
        "colab": {
          "base_uri": "https://localhost:8080/",
          "height": 122
        }
      },
      "source": [
        "drive.mount(\"/content/drive\")"
      ],
      "execution_count": 0,
      "outputs": [
        {
          "output_type": "stream",
          "text": [
            "Go to this URL in a browser: https://accounts.google.com/o/oauth2/auth?client_id=947318989803-6bn6qk8qdgf4n4g3pfee6491hc0brc4i.apps.googleusercontent.com&redirect_uri=urn%3aietf%3awg%3aoauth%3a2.0%3aoob&response_type=code&scope=email%20https%3a%2f%2fwww.googleapis.com%2fauth%2fdocs.test%20https%3a%2f%2fwww.googleapis.com%2fauth%2fdrive%20https%3a%2f%2fwww.googleapis.com%2fauth%2fdrive.photos.readonly%20https%3a%2f%2fwww.googleapis.com%2fauth%2fpeopleapi.readonly\n",
            "\n",
            "Enter your authorization code:\n",
            "··········\n",
            "Mounted at /content/drive\n"
          ],
          "name": "stdout"
        }
      ]
    },
    {
      "cell_type": "code",
      "metadata": {
        "id": "-7ug7ssiXFcX",
        "colab_type": "code",
        "colab": {}
      },
      "source": [
        "import os, shutil"
      ],
      "execution_count": 0,
      "outputs": []
    },
    {
      "cell_type": "code",
      "metadata": {
        "id": "svqryc0TXbVm",
        "colab_type": "code",
        "outputId": "fcb08c8b-7c76-437a-ae68-e61d92c0daa8",
        "colab": {
          "base_uri": "https://localhost:8080/",
          "height": 34
        }
      },
      "source": [
        "os.listdir(\"/content/drive/My Drive/Colab Notebooks/yulu_tf2_D2S/\")"
      ],
      "execution_count": 0,
      "outputs": [
        {
          "output_type": "execute_result",
          "data": {
            "text/plain": [
              "['gitrepo', 'train', '.ipynb_checkpoints', 'clone_git_repo.ipynb']"
            ]
          },
          "metadata": {
            "tags": []
          },
          "execution_count": 13
        }
      ]
    },
    {
      "cell_type": "code",
      "metadata": {
        "id": "31e5HvPqXSRD",
        "colab_type": "code",
        "outputId": "d3f89e1f-c8bb-4da0-be1b-94013dcf5526",
        "colab": {
          "base_uri": "https://localhost:8080/",
          "height": 34
        }
      },
      "source": [
        "shutil.copytree(\"/content/drive/My Drive/Colab Notebooks/yulu_tf2_D2S/gitrepo\", \"./gitrepo\")"
      ],
      "execution_count": 0,
      "outputs": [
        {
          "output_type": "execute_result",
          "data": {
            "text/plain": [
              "'./gitrepo'"
            ]
          },
          "metadata": {
            "tags": []
          },
          "execution_count": 15
        }
      ]
    },
    {
      "cell_type": "code",
      "metadata": {
        "id": "RBlfLCMHX5FR",
        "colab_type": "code",
        "outputId": "203da8d5-b84b-4a93-8226-5d293aa1f6f5",
        "colab": {
          "base_uri": "https://localhost:8080/",
          "height": 34
        }
      },
      "source": [
        "shutil.copytree(\"/content/drive/My Drive/Colab Notebooks/yulu_tf2_D2S/train\", \"./train_images\")"
      ],
      "execution_count": 0,
      "outputs": [
        {
          "output_type": "execute_result",
          "data": {
            "text/plain": [
              "'./train_images'"
            ]
          },
          "metadata": {
            "tags": []
          },
          "execution_count": 16
        }
      ]
    },
    {
      "cell_type": "code",
      "metadata": {
        "id": "oIHqV9sPaNew",
        "colab_type": "code",
        "colab": {}
      },
      "source": [
        "image_path = \"/content/train_images/D2S_000200.jpg\""
      ],
      "execution_count": 0,
      "outputs": []
    },
    {
      "cell_type": "code",
      "metadata": {
        "id": "AIPV_Q6PYXzH",
        "colab_type": "code",
        "outputId": "4eb93ad9-1151-499d-cc4e-02ce0ff8f7cf",
        "colab": {
          "base_uri": "https://localhost:8080/",
          "height": 340
        }
      },
      "source": [
        "os.listdir(\"/content/gitrepo\")"
      ],
      "execution_count": 0,
      "outputs": [
        {
          "output_type": "execute_result",
          "data": {
            "text/plain": [
              "['.gitignore',\n",
              " 'LICENSE',\n",
              " 'requirements.txt',\n",
              " 'conda-cpu.yml',\n",
              " 'README.md',\n",
              " 'train.py',\n",
              " 'docs',\n",
              " 'conda-gpu.yml',\n",
              " '.git',\n",
              " 'detect_video.py',\n",
              " 'data',\n",
              " 'requirements-gpu.txt',\n",
              " 'setup.py',\n",
              " 'detect.py',\n",
              " 'tools',\n",
              " 'colab_gpu.ipynb',\n",
              " 'checkpoints',\n",
              " 'convert.py',\n",
              " 'yolov3_tf2']"
            ]
          },
          "metadata": {
            "tags": []
          },
          "execution_count": 18
        }
      ]
    },
    {
      "cell_type": "code",
      "metadata": {
        "id": "WR4txqC_kH7r",
        "colab_type": "code",
        "outputId": "07114d80-bfa0-46dd-a224-5040e0b08131",
        "colab": {
          "base_uri": "https://localhost:8080/",
          "height": 1000
        }
      },
      "source": [
        "!pip install -r \"/content/gitrepo/requirements.txt\""
      ],
      "execution_count": 0,
      "outputs": [
        {
          "output_type": "stream",
          "text": [
            "Collecting tensorflow==2.1.0rc1\n",
            "\u001b[?25l  Downloading https://files.pythonhosted.org/packages/d5/97/fbec42dfdb93a37ec971ca0996ff70b8eb5817789a9c1880aafd4684c9af/tensorflow-2.1.0rc1-cp36-cp36m-manylinux2010_x86_64.whl (421.8MB)\n",
            "\u001b[K     |████████████████████████████████| 421.8MB 27kB/s \n",
            "\u001b[?25hCollecting opencv-python==4.1.1.26\n",
            "\u001b[?25l  Downloading https://files.pythonhosted.org/packages/5e/7e/bd5425f4dacb73367fddc71388a47c1ea570839197c2bcad86478e565186/opencv_python-4.1.1.26-cp36-cp36m-manylinux1_x86_64.whl (28.7MB)\n",
            "\u001b[K     |████████████████████████████████| 28.7MB 164kB/s \n",
            "\u001b[?25hRequirement already satisfied: lxml in /usr/local/lib/python3.6/dist-packages (from -r /content/gitrepo/requirements.txt (line 3)) (4.2.6)\n",
            "Requirement already satisfied: tqdm in /usr/local/lib/python3.6/dist-packages (from -r /content/gitrepo/requirements.txt (line 4)) (4.38.0)\n",
            "Collecting tensorboard<2.2.0,>=2.1.0\n",
            "\u001b[?25l  Downloading https://files.pythonhosted.org/packages/d9/41/bbf49b61370e4f4d245d4c6051dfb6db80cec672605c91b1652ac8cc3d38/tensorboard-2.1.1-py3-none-any.whl (3.8MB)\n",
            "\u001b[K     |████████████████████████████████| 3.9MB 33.1MB/s \n",
            "\u001b[?25hRequirement already satisfied: astor>=0.6.0 in /usr/local/lib/python3.6/dist-packages (from tensorflow==2.1.0rc1->-r /content/gitrepo/requirements.txt (line 1)) (0.8.1)\n",
            "Collecting gast==0.2.2\n",
            "  Downloading https://files.pythonhosted.org/packages/4e/35/11749bf99b2d4e3cceb4d55ca22590b0d7c2c62b9de38ac4a4a7f4687421/gast-0.2.2.tar.gz\n",
            "Requirement already satisfied: keras-preprocessing>=1.1.0 in /usr/local/lib/python3.6/dist-packages (from tensorflow==2.1.0rc1->-r /content/gitrepo/requirements.txt (line 1)) (1.1.0)\n",
            "Requirement already satisfied: opt-einsum>=2.3.2 in /usr/local/lib/python3.6/dist-packages (from tensorflow==2.1.0rc1->-r /content/gitrepo/requirements.txt (line 1)) (3.2.1)\n",
            "Requirement already satisfied: termcolor>=1.1.0 in /usr/local/lib/python3.6/dist-packages (from tensorflow==2.1.0rc1->-r /content/gitrepo/requirements.txt (line 1)) (1.1.0)\n",
            "Requirement already satisfied: wrapt>=1.11.1 in /usr/local/lib/python3.6/dist-packages (from tensorflow==2.1.0rc1->-r /content/gitrepo/requirements.txt (line 1)) (1.12.1)\n",
            "Requirement already satisfied: wheel>=0.26; python_version >= \"3\" in /usr/local/lib/python3.6/dist-packages (from tensorflow==2.1.0rc1->-r /content/gitrepo/requirements.txt (line 1)) (0.34.2)\n",
            "Requirement already satisfied: google-pasta>=0.1.6 in /usr/local/lib/python3.6/dist-packages (from tensorflow==2.1.0rc1->-r /content/gitrepo/requirements.txt (line 1)) (0.2.0)\n",
            "Requirement already satisfied: protobuf>=3.8.0 in /usr/local/lib/python3.6/dist-packages (from tensorflow==2.1.0rc1->-r /content/gitrepo/requirements.txt (line 1)) (3.10.0)\n",
            "Requirement already satisfied: absl-py>=0.7.0 in /usr/local/lib/python3.6/dist-packages (from tensorflow==2.1.0rc1->-r /content/gitrepo/requirements.txt (line 1)) (0.9.0)\n",
            "Requirement already satisfied: keras-applications>=1.0.8 in /usr/local/lib/python3.6/dist-packages (from tensorflow==2.1.0rc1->-r /content/gitrepo/requirements.txt (line 1)) (1.0.8)\n",
            "Requirement already satisfied: grpcio>=1.8.6 in /usr/local/lib/python3.6/dist-packages (from tensorflow==2.1.0rc1->-r /content/gitrepo/requirements.txt (line 1)) (1.28.1)\n",
            "Requirement already satisfied: numpy<2.0,>=1.16.0 in /usr/local/lib/python3.6/dist-packages (from tensorflow==2.1.0rc1->-r /content/gitrepo/requirements.txt (line 1)) (1.18.3)\n",
            "Collecting tensorflow-estimator<2.2.0,>=2.1.0rc0\n",
            "\u001b[?25l  Downloading https://files.pythonhosted.org/packages/18/90/b77c328a1304437ab1310b463e533fa7689f4bfc41549593056d812fab8e/tensorflow_estimator-2.1.0-py2.py3-none-any.whl (448kB)\n",
            "\u001b[K     |████████████████████████████████| 450kB 39.7MB/s \n",
            "\u001b[?25hRequirement already satisfied: six>=1.12.0 in /usr/local/lib/python3.6/dist-packages (from tensorflow==2.1.0rc1->-r /content/gitrepo/requirements.txt (line 1)) (1.12.0)\n",
            "Requirement already satisfied: google-auth<2,>=1.6.3 in /usr/local/lib/python3.6/dist-packages (from tensorboard<2.2.0,>=2.1.0->tensorflow==2.1.0rc1->-r /content/gitrepo/requirements.txt (line 1)) (1.7.2)\n",
            "Requirement already satisfied: setuptools>=41.0.0 in /usr/local/lib/python3.6/dist-packages (from tensorboard<2.2.0,>=2.1.0->tensorflow==2.1.0rc1->-r /content/gitrepo/requirements.txt (line 1)) (46.1.3)\n",
            "Requirement already satisfied: markdown>=2.6.8 in /usr/local/lib/python3.6/dist-packages (from tensorboard<2.2.0,>=2.1.0->tensorflow==2.1.0rc1->-r /content/gitrepo/requirements.txt (line 1)) (3.2.1)\n",
            "Requirement already satisfied: werkzeug>=0.11.15 in /usr/local/lib/python3.6/dist-packages (from tensorboard<2.2.0,>=2.1.0->tensorflow==2.1.0rc1->-r /content/gitrepo/requirements.txt (line 1)) (1.0.1)\n",
            "Requirement already satisfied: google-auth-oauthlib<0.5,>=0.4.1 in /usr/local/lib/python3.6/dist-packages (from tensorboard<2.2.0,>=2.1.0->tensorflow==2.1.0rc1->-r /content/gitrepo/requirements.txt (line 1)) (0.4.1)\n",
            "Requirement already satisfied: requests<3,>=2.21.0 in /usr/local/lib/python3.6/dist-packages (from tensorboard<2.2.0,>=2.1.0->tensorflow==2.1.0rc1->-r /content/gitrepo/requirements.txt (line 1)) (2.21.0)\n",
            "Requirement already satisfied: h5py in /usr/local/lib/python3.6/dist-packages (from keras-applications>=1.0.8->tensorflow==2.1.0rc1->-r /content/gitrepo/requirements.txt (line 1)) (2.10.0)\n",
            "Requirement already satisfied: cachetools<3.2,>=2.0.0 in /usr/local/lib/python3.6/dist-packages (from google-auth<2,>=1.6.3->tensorboard<2.2.0,>=2.1.0->tensorflow==2.1.0rc1->-r /content/gitrepo/requirements.txt (line 1)) (3.1.1)\n",
            "Requirement already satisfied: pyasn1-modules>=0.2.1 in /usr/local/lib/python3.6/dist-packages (from google-auth<2,>=1.6.3->tensorboard<2.2.0,>=2.1.0->tensorflow==2.1.0rc1->-r /content/gitrepo/requirements.txt (line 1)) (0.2.8)\n",
            "Requirement already satisfied: rsa<4.1,>=3.1.4 in /usr/local/lib/python3.6/dist-packages (from google-auth<2,>=1.6.3->tensorboard<2.2.0,>=2.1.0->tensorflow==2.1.0rc1->-r /content/gitrepo/requirements.txt (line 1)) (4.0)\n",
            "Requirement already satisfied: requests-oauthlib>=0.7.0 in /usr/local/lib/python3.6/dist-packages (from google-auth-oauthlib<0.5,>=0.4.1->tensorboard<2.2.0,>=2.1.0->tensorflow==2.1.0rc1->-r /content/gitrepo/requirements.txt (line 1)) (1.3.0)\n",
            "Requirement already satisfied: chardet<3.1.0,>=3.0.2 in /usr/local/lib/python3.6/dist-packages (from requests<3,>=2.21.0->tensorboard<2.2.0,>=2.1.0->tensorflow==2.1.0rc1->-r /content/gitrepo/requirements.txt (line 1)) (3.0.4)\n",
            "Requirement already satisfied: urllib3<1.25,>=1.21.1 in /usr/local/lib/python3.6/dist-packages (from requests<3,>=2.21.0->tensorboard<2.2.0,>=2.1.0->tensorflow==2.1.0rc1->-r /content/gitrepo/requirements.txt (line 1)) (1.24.3)\n",
            "Requirement already satisfied: idna<2.9,>=2.5 in /usr/local/lib/python3.6/dist-packages (from requests<3,>=2.21.0->tensorboard<2.2.0,>=2.1.0->tensorflow==2.1.0rc1->-r /content/gitrepo/requirements.txt (line 1)) (2.8)\n",
            "Requirement already satisfied: certifi>=2017.4.17 in /usr/local/lib/python3.6/dist-packages (from requests<3,>=2.21.0->tensorboard<2.2.0,>=2.1.0->tensorflow==2.1.0rc1->-r /content/gitrepo/requirements.txt (line 1)) (2020.4.5.1)\n",
            "Requirement already satisfied: pyasn1<0.5.0,>=0.4.6 in /usr/local/lib/python3.6/dist-packages (from pyasn1-modules>=0.2.1->google-auth<2,>=1.6.3->tensorboard<2.2.0,>=2.1.0->tensorflow==2.1.0rc1->-r /content/gitrepo/requirements.txt (line 1)) (0.4.8)\n",
            "Requirement already satisfied: oauthlib>=3.0.0 in /usr/local/lib/python3.6/dist-packages (from requests-oauthlib>=0.7.0->google-auth-oauthlib<0.5,>=0.4.1->tensorboard<2.2.0,>=2.1.0->tensorflow==2.1.0rc1->-r /content/gitrepo/requirements.txt (line 1)) (3.1.0)\n",
            "Building wheels for collected packages: gast\n",
            "  Building wheel for gast (setup.py) ... \u001b[?25l\u001b[?25hdone\n",
            "  Created wheel for gast: filename=gast-0.2.2-cp36-none-any.whl size=7540 sha256=c67d8f5f83eec8650ff1b01624de7d7cfb718e3ccb2e7a38a21df4fcc299a387\n",
            "  Stored in directory: /root/.cache/pip/wheels/5c/2e/7e/a1d4d4fcebe6c381f378ce7743a3ced3699feb89bcfbdadadd\n",
            "Successfully built gast\n",
            "\u001b[31mERROR: tensorflow-probability 0.10.0rc0 has requirement gast>=0.3.2, but you'll have gast 0.2.2 which is incompatible.\u001b[0m\n",
            "\u001b[31mERROR: albumentations 0.1.12 has requirement imgaug<0.2.7,>=0.2.5, but you'll have imgaug 0.2.9 which is incompatible.\u001b[0m\n",
            "Installing collected packages: tensorboard, gast, tensorflow-estimator, tensorflow, opencv-python\n",
            "  Found existing installation: tensorboard 2.2.1\n",
            "    Uninstalling tensorboard-2.2.1:\n",
            "      Successfully uninstalled tensorboard-2.2.1\n",
            "  Found existing installation: gast 0.3.3\n",
            "    Uninstalling gast-0.3.3:\n",
            "      Successfully uninstalled gast-0.3.3\n",
            "  Found existing installation: tensorflow-estimator 2.2.0\n",
            "    Uninstalling tensorflow-estimator-2.2.0:\n",
            "      Successfully uninstalled tensorflow-estimator-2.2.0\n",
            "  Found existing installation: tensorflow 2.2.0rc3\n",
            "    Uninstalling tensorflow-2.2.0rc3:\n",
            "      Successfully uninstalled tensorflow-2.2.0rc3\n",
            "  Found existing installation: opencv-python 4.1.2.30\n",
            "    Uninstalling opencv-python-4.1.2.30:\n",
            "      Successfully uninstalled opencv-python-4.1.2.30\n",
            "Successfully installed gast-0.2.2 opencv-python-4.1.1.26 tensorboard-2.1.1 tensorflow-2.1.0rc1 tensorflow-estimator-2.1.0\n"
          ],
          "name": "stdout"
        }
      ]
    },
    {
      "cell_type": "code",
      "metadata": {
        "id": "uPJ-vw3bkO8n",
        "colab_type": "code",
        "outputId": "f8a5d63f-4cea-43a9-8192-3602c5be5692",
        "colab": {
          "base_uri": "https://localhost:8080/",
          "height": 85
        }
      },
      "source": [
        "!cat \"/content/gitrepo/requirements.txt\""
      ],
      "execution_count": 0,
      "outputs": [
        {
          "output_type": "stream",
          "text": [
            "tensorflow==2.1.0rc1\n",
            "opencv-python==4.1.1.26\n",
            "lxml\n",
            "tqdm\n"
          ],
          "name": "stdout"
        }
      ]
    },
    {
      "cell_type": "code",
      "metadata": {
        "id": "lYQonXkaoKhp",
        "colab_type": "code",
        "outputId": "42439e47-652d-46b9-f707-06d0966e7645",
        "colab": {
          "base_uri": "https://localhost:8080/",
          "height": 204
        }
      },
      "source": [
        "!wget https://pjreddie.com/media/files/yolov3.weights -O \"/content/gitrepo/data/yolov3.weights\""
      ],
      "execution_count": 0,
      "outputs": [
        {
          "output_type": "stream",
          "text": [
            "--2020-04-27 17:13:39--  https://pjreddie.com/media/files/yolov3.weights\n",
            "Resolving pjreddie.com (pjreddie.com)... 128.208.4.108\n",
            "Connecting to pjreddie.com (pjreddie.com)|128.208.4.108|:443... connected.\n",
            "HTTP request sent, awaiting response... 200 OK\n",
            "Length: 248007048 (237M) [application/octet-stream]\n",
            "Saving to: ‘/content/gitrepo/data/yolov3.weights’\n",
            "\n",
            "/content/gitrepo/da 100%[===================>] 236.52M   257KB/s    in 14m 31s \n",
            "\n",
            "2020-04-27 17:28:12 (278 KB/s) - ‘/content/gitrepo/data/yolov3.weights’ saved [248007048/248007048]\n",
            "\n"
          ],
          "name": "stdout"
        }
      ]
    },
    {
      "cell_type": "code",
      "metadata": {
        "id": "6K5ifTd0rybD",
        "colab_type": "code",
        "outputId": "42f8c87c-964b-41be-e021-1de776863aa6",
        "colab": {
          "base_uri": "https://localhost:8080/",
          "height": 1000
        }
      },
      "source": [
        "!python \"/content/gitrepo/convert.py\""
      ],
      "execution_count": 0,
      "outputs": [
        {
          "output_type": "stream",
          "text": [
            "2020-04-27 17:32:02.427510: W tensorflow/stream_executor/platform/default/dso_loader.cc:55] Could not load dynamic library 'libnvinfer.so.6'; dlerror: libnvinfer.so.6: cannot open shared object file: No such file or directory; LD_LIBRARY_PATH: /usr/local/nvidia/lib:/usr/local/nvidia/lib64\n",
            "2020-04-27 17:32:02.427643: W tensorflow/stream_executor/platform/default/dso_loader.cc:55] Could not load dynamic library 'libnvinfer_plugin.so.6'; dlerror: libnvinfer_plugin.so.6: cannot open shared object file: No such file or directory; LD_LIBRARY_PATH: /usr/local/nvidia/lib:/usr/local/nvidia/lib64\n",
            "2020-04-27 17:32:02.427663: W tensorflow/compiler/tf2tensorrt/utils/py_utils.cc:30] Cannot dlopen some TensorRT libraries. If you would like to use Nvidia GPU with TensorRT, please make sure the missing libraries mentioned above are installed properly.\n",
            "2020-04-27 17:32:03.380719: I tensorflow/stream_executor/platform/default/dso_loader.cc:44] Successfully opened dynamic library libcuda.so.1\n",
            "2020-04-27 17:32:03.382526: E tensorflow/stream_executor/cuda/cuda_driver.cc:351] failed call to cuInit: CUDA_ERROR_NO_DEVICE: no CUDA-capable device is detected\n",
            "2020-04-27 17:32:03.382566: I tensorflow/stream_executor/cuda/cuda_diagnostics.cc:156] kernel driver does not appear to be running on this host (2d1e1e85d10a): /proc/driver/nvidia/version does not exist\n",
            "2020-04-27 17:32:03.382809: I tensorflow/core/platform/cpu_feature_guard.cc:142] Your CPU supports instructions that this TensorFlow binary was not compiled to use: AVX2 FMA\n",
            "2020-04-27 17:32:03.388301: I tensorflow/core/platform/profile_utils/cpu_utils.cc:94] CPU Frequency: 2300000000 Hz\n",
            "2020-04-27 17:32:03.388535: I tensorflow/compiler/xla/service/service.cc:168] XLA service 0x2dc0840 initialized for platform Host (this does not guarantee that XLA will be used). Devices:\n",
            "2020-04-27 17:32:03.388569: I tensorflow/compiler/xla/service/service.cc:176]   StreamExecutor device (0): Host, Default Version\n",
            "Model: \"yolov3\"\n",
            "__________________________________________________________________________________________________\n",
            "Layer (type)                    Output Shape         Param #     Connected to                     \n",
            "==================================================================================================\n",
            "input (InputLayer)              [(None, None, None,  0                                            \n",
            "__________________________________________________________________________________________________\n",
            "yolo_darknet (Model)            ((None, None, None,  40620640    input[0][0]                      \n",
            "__________________________________________________________________________________________________\n",
            "yolo_conv_0 (Model)             (None, None, None, 5 11024384    yolo_darknet[1][2]               \n",
            "__________________________________________________________________________________________________\n",
            "yolo_conv_1 (Model)             (None, None, None, 2 2957312     yolo_conv_0[1][0]                \n",
            "                                                                 yolo_darknet[1][1]               \n",
            "__________________________________________________________________________________________________\n",
            "yolo_conv_2 (Model)             (None, None, None, 1 741376      yolo_conv_1[1][0]                \n",
            "                                                                 yolo_darknet[1][0]               \n",
            "__________________________________________________________________________________________________\n",
            "yolo_output_0 (Model)           (None, None, None, 3 4984063     yolo_conv_0[1][0]                \n",
            "__________________________________________________________________________________________________\n",
            "yolo_output_1 (Model)           (None, None, None, 3 1312511     yolo_conv_1[1][0]                \n",
            "__________________________________________________________________________________________________\n",
            "yolo_output_2 (Model)           (None, None, None, 3 361471      yolo_conv_2[1][0]                \n",
            "__________________________________________________________________________________________________\n",
            "yolo_boxes_0 (Lambda)           ((None, None, None,  0           yolo_output_0[1][0]              \n",
            "__________________________________________________________________________________________________\n",
            "yolo_boxes_1 (Lambda)           ((None, None, None,  0           yolo_output_1[1][0]              \n",
            "__________________________________________________________________________________________________\n",
            "yolo_boxes_2 (Lambda)           ((None, None, None,  0           yolo_output_2[1][0]              \n",
            "__________________________________________________________________________________________________\n",
            "yolo_nms (Lambda)               ((None, 100, 4), (No 0           yolo_boxes_0[0][0]               \n",
            "                                                                 yolo_boxes_0[0][1]               \n",
            "                                                                 yolo_boxes_0[0][2]               \n",
            "                                                                 yolo_boxes_1[0][0]               \n",
            "                                                                 yolo_boxes_1[0][1]               \n",
            "                                                                 yolo_boxes_1[0][2]               \n",
            "                                                                 yolo_boxes_2[0][0]               \n",
            "                                                                 yolo_boxes_2[0][1]               \n",
            "                                                                 yolo_boxes_2[0][2]               \n",
            "==================================================================================================\n",
            "Total params: 62,001,757\n",
            "Trainable params: 61,949,149\n",
            "Non-trainable params: 52,608\n",
            "__________________________________________________________________________________________________\n",
            "I0427 17:32:09.037410 139997995263872 convert.py:19] model created\n",
            "I0427 17:32:09.039249 139997995263872 utils.py:45] yolo_darknet/conv2d bn\n",
            "I0427 17:32:09.041492 139997995263872 utils.py:45] yolo_darknet/conv2d_1 bn\n",
            "I0427 17:32:09.043553 139997995263872 utils.py:45] yolo_darknet/conv2d_2 bn\n",
            "I0427 17:32:09.045534 139997995263872 utils.py:45] yolo_darknet/conv2d_3 bn\n",
            "I0427 17:32:09.047551 139997995263872 utils.py:45] yolo_darknet/conv2d_4 bn\n",
            "I0427 17:32:09.049921 139997995263872 utils.py:45] yolo_darknet/conv2d_5 bn\n",
            "I0427 17:32:09.051884 139997995263872 utils.py:45] yolo_darknet/conv2d_6 bn\n",
            "I0427 17:32:09.054336 139997995263872 utils.py:45] yolo_darknet/conv2d_7 bn\n",
            "I0427 17:32:09.056309 139997995263872 utils.py:45] yolo_darknet/conv2d_8 bn\n",
            "I0427 17:32:09.058588 139997995263872 utils.py:45] yolo_darknet/conv2d_9 bn\n",
            "I0427 17:32:09.062378 139997995263872 utils.py:45] yolo_darknet/conv2d_10 bn\n",
            "I0427 17:32:09.064481 139997995263872 utils.py:45] yolo_darknet/conv2d_11 bn\n",
            "I0427 17:32:09.068039 139997995263872 utils.py:45] yolo_darknet/conv2d_12 bn\n",
            "I0427 17:32:09.070144 139997995263872 utils.py:45] yolo_darknet/conv2d_13 bn\n",
            "I0427 17:32:09.073689 139997995263872 utils.py:45] yolo_darknet/conv2d_14 bn\n",
            "I0427 17:32:09.075774 139997995263872 utils.py:45] yolo_darknet/conv2d_15 bn\n",
            "I0427 17:32:09.079347 139997995263872 utils.py:45] yolo_darknet/conv2d_16 bn\n",
            "I0427 17:32:09.081449 139997995263872 utils.py:45] yolo_darknet/conv2d_17 bn\n",
            "I0427 17:32:09.085598 139997995263872 utils.py:45] yolo_darknet/conv2d_18 bn\n",
            "I0427 17:32:09.087820 139997995263872 utils.py:45] yolo_darknet/conv2d_19 bn\n",
            "I0427 17:32:09.091376 139997995263872 utils.py:45] yolo_darknet/conv2d_20 bn\n",
            "I0427 17:32:09.093446 139997995263872 utils.py:45] yolo_darknet/conv2d_21 bn\n",
            "I0427 17:32:09.096901 139997995263872 utils.py:45] yolo_darknet/conv2d_22 bn\n",
            "I0427 17:32:09.098963 139997995263872 utils.py:45] yolo_darknet/conv2d_23 bn\n",
            "I0427 17:32:09.102415 139997995263872 utils.py:45] yolo_darknet/conv2d_24 bn\n",
            "I0427 17:32:09.104447 139997995263872 utils.py:45] yolo_darknet/conv2d_25 bn\n",
            "I0427 17:32:09.107817 139997995263872 utils.py:45] yolo_darknet/conv2d_26 bn\n",
            "I0427 17:32:09.116590 139997995263872 utils.py:45] yolo_darknet/conv2d_27 bn\n",
            "I0427 17:32:09.119355 139997995263872 utils.py:45] yolo_darknet/conv2d_28 bn\n",
            "I0427 17:32:09.128044 139997995263872 utils.py:45] yolo_darknet/conv2d_29 bn\n",
            "I0427 17:32:09.130857 139997995263872 utils.py:45] yolo_darknet/conv2d_30 bn\n",
            "I0427 17:32:09.138973 139997995263872 utils.py:45] yolo_darknet/conv2d_31 bn\n",
            "I0427 17:32:09.141680 139997995263872 utils.py:45] yolo_darknet/conv2d_32 bn\n",
            "I0427 17:32:09.149604 139997995263872 utils.py:45] yolo_darknet/conv2d_33 bn\n",
            "I0427 17:32:09.152299 139997995263872 utils.py:45] yolo_darknet/conv2d_34 bn\n",
            "I0427 17:32:09.160245 139997995263872 utils.py:45] yolo_darknet/conv2d_35 bn\n",
            "I0427 17:32:09.162917 139997995263872 utils.py:45] yolo_darknet/conv2d_36 bn\n",
            "I0427 17:32:09.170789 139997995263872 utils.py:45] yolo_darknet/conv2d_37 bn\n",
            "I0427 17:32:09.173467 139997995263872 utils.py:45] yolo_darknet/conv2d_38 bn\n",
            "I0427 17:32:09.181341 139997995263872 utils.py:45] yolo_darknet/conv2d_39 bn\n",
            "I0427 17:32:09.184013 139997995263872 utils.py:45] yolo_darknet/conv2d_40 bn\n",
            "I0427 17:32:09.192196 139997995263872 utils.py:45] yolo_darknet/conv2d_41 bn\n",
            "I0427 17:32:09.194947 139997995263872 utils.py:45] yolo_darknet/conv2d_42 bn\n",
            "I0427 17:32:09.203038 139997995263872 utils.py:45] yolo_darknet/conv2d_43 bn\n",
            "I0427 17:32:09.257686 139997995263872 utils.py:45] yolo_darknet/conv2d_44 bn\n",
            "I0427 17:32:09.263999 139997995263872 utils.py:45] yolo_darknet/conv2d_45 bn\n",
            "I0427 17:32:09.302026 139997995263872 utils.py:45] yolo_darknet/conv2d_46 bn\n",
            "I0427 17:32:09.307925 139997995263872 utils.py:45] yolo_darknet/conv2d_47 bn\n",
            "I0427 17:32:09.340534 139997995263872 utils.py:45] yolo_darknet/conv2d_48 bn\n",
            "I0427 17:32:09.346710 139997995263872 utils.py:45] yolo_darknet/conv2d_49 bn\n",
            "I0427 17:32:09.377896 139997995263872 utils.py:45] yolo_darknet/conv2d_50 bn\n",
            "I0427 17:32:09.383643 139997995263872 utils.py:45] yolo_darknet/conv2d_51 bn\n",
            "I0427 17:32:09.413349 139997995263872 utils.py:45] yolo_conv_0/conv2d_52 bn\n",
            "I0427 17:32:09.418877 139997995263872 utils.py:45] yolo_conv_0/conv2d_53 bn\n",
            "I0427 17:32:09.451677 139997995263872 utils.py:45] yolo_conv_0/conv2d_54 bn\n",
            "I0427 17:32:09.456178 139997995263872 utils.py:45] yolo_conv_0/conv2d_55 bn\n",
            "I0427 17:32:09.487078 139997995263872 utils.py:45] yolo_conv_0/conv2d_56 bn\n",
            "I0427 17:32:09.491782 139997995263872 utils.py:45] yolo_output_0/conv2d_57 bn\n",
            "I0427 17:32:09.523432 139997995263872 utils.py:45] yolo_output_0/conv2d_58 bias\n",
            "I0427 17:32:09.525808 139997995263872 utils.py:45] yolo_conv_1/conv2d_59 bn\n",
            "I0427 17:32:09.527433 139997995263872 utils.py:45] yolo_conv_1/conv2d_60 bn\n",
            "I0427 17:32:09.529190 139997995263872 utils.py:45] yolo_conv_1/conv2d_61 bn\n",
            "I0427 17:32:09.535519 139997995263872 utils.py:45] yolo_conv_1/conv2d_62 bn\n",
            "I0427 17:32:09.536989 139997995263872 utils.py:45] yolo_conv_1/conv2d_63 bn\n",
            "I0427 17:32:09.543226 139997995263872 utils.py:45] yolo_conv_1/conv2d_64 bn\n",
            "I0427 17:32:09.544702 139997995263872 utils.py:45] yolo_output_1/conv2d_65 bn\n",
            "I0427 17:32:09.550417 139997995263872 utils.py:45] yolo_output_1/conv2d_66 bias\n",
            "I0427 17:32:09.551654 139997995263872 utils.py:45] yolo_conv_2/conv2d_67 bn\n",
            "I0427 17:32:09.552755 139997995263872 utils.py:45] yolo_conv_2/conv2d_68 bn\n",
            "I0427 17:32:09.554024 139997995263872 utils.py:45] yolo_conv_2/conv2d_69 bn\n",
            "I0427 17:32:09.556375 139997995263872 utils.py:45] yolo_conv_2/conv2d_70 bn\n",
            "I0427 17:32:09.557498 139997995263872 utils.py:45] yolo_conv_2/conv2d_71 bn\n",
            "I0427 17:32:09.559653 139997995263872 utils.py:45] yolo_conv_2/conv2d_72 bn\n",
            "I0427 17:32:09.560701 139997995263872 utils.py:45] yolo_output_2/conv2d_73 bn\n",
            "I0427 17:32:09.562751 139997995263872 utils.py:45] yolo_output_2/conv2d_74 bias\n",
            "I0427 17:32:09.563516 139997995263872 convert.py:22] weights loaded\n",
            "I0427 17:32:10.762719 139997995263872 convert.py:26] sanity check passed\n",
            "I0427 17:32:11.515893 139997995263872 convert.py:29] weights saved\n"
          ],
          "name": "stdout"
        }
      ]
    },
    {
      "cell_type": "code",
      "metadata": {
        "id": "iatJrLUUuBtG",
        "colab_type": "code",
        "outputId": "2f87a90e-1d01-4120-a859-4207f02015b0",
        "colab": {
          "base_uri": "https://localhost:8080/",
          "height": 54
        }
      },
      "source": [
        "os.listdir(\"/content/gitrepo/checkpoints\")"
      ],
      "execution_count": 0,
      "outputs": [
        {
          "output_type": "execute_result",
          "data": {
            "text/plain": [
              "['yolov3.tf.index', 'yolov3.tf.data-00000-of-00001', '.gitkeep', 'checkpoint']"
            ]
          },
          "metadata": {
            "tags": []
          },
          "execution_count": 32
        }
      ]
    },
    {
      "cell_type": "code",
      "metadata": {
        "id": "GM0E53DwoWDB",
        "colab_type": "code",
        "colab": {}
      },
      "source": [
        ""
      ],
      "execution_count": 0,
      "outputs": []
    },
    {
      "cell_type": "code",
      "metadata": {
        "id": "ITSRaYZgmSWp",
        "colab_type": "code",
        "outputId": "3cf7b388-0f96-4d7f-b669-8e50d7a47d90",
        "colab": {
          "base_uri": "https://localhost:8080/",
          "height": 309
        }
      },
      "source": [
        "!python \"/content/gitrepo/detect.py\" --image \"/content/train_images/D2S_000200.jpg\""
      ],
      "execution_count": 0,
      "outputs": [
        {
          "output_type": "stream",
          "text": [
            "2020-04-27 17:40:07.672328: W tensorflow/stream_executor/platform/default/dso_loader.cc:55] Could not load dynamic library 'libnvinfer.so.6'; dlerror: libnvinfer.so.6: cannot open shared object file: No such file or directory; LD_LIBRARY_PATH: /usr/local/nvidia/lib:/usr/local/nvidia/lib64\n",
            "2020-04-27 17:40:07.672471: W tensorflow/stream_executor/platform/default/dso_loader.cc:55] Could not load dynamic library 'libnvinfer_plugin.so.6'; dlerror: libnvinfer_plugin.so.6: cannot open shared object file: No such file or directory; LD_LIBRARY_PATH: /usr/local/nvidia/lib:/usr/local/nvidia/lib64\n",
            "2020-04-27 17:40:07.672493: W tensorflow/compiler/tf2tensorrt/utils/py_utils.cc:30] Cannot dlopen some TensorRT libraries. If you would like to use Nvidia GPU with TensorRT, please make sure the missing libraries mentioned above are installed properly.\n",
            "2020-04-27 17:40:08.735289: I tensorflow/stream_executor/platform/default/dso_loader.cc:44] Successfully opened dynamic library libcuda.so.1\n",
            "2020-04-27 17:40:08.737346: E tensorflow/stream_executor/cuda/cuda_driver.cc:351] failed call to cuInit: CUDA_ERROR_NO_DEVICE: no CUDA-capable device is detected\n",
            "2020-04-27 17:40:08.737386: I tensorflow/stream_executor/cuda/cuda_diagnostics.cc:156] kernel driver does not appear to be running on this host (2d1e1e85d10a): /proc/driver/nvidia/version does not exist\n",
            "2020-04-27 17:40:08.753312: I tensorflow/core/platform/cpu_feature_guard.cc:142] Your CPU supports instructions that this TensorFlow binary was not compiled to use: AVX2 FMA\n",
            "2020-04-27 17:40:08.761185: I tensorflow/core/platform/profile_utils/cpu_utils.cc:94] CPU Frequency: 2300000000 Hz\n",
            "2020-04-27 17:40:08.761496: I tensorflow/compiler/xla/service/service.cc:168] XLA service 0x2116840 initialized for platform Host (this does not guarantee that XLA will be used). Devices:\n",
            "2020-04-27 17:40:08.761540: I tensorflow/compiler/xla/service/service.cc:176]   StreamExecutor device (0): Host, Default Version\n",
            "I0427 17:40:15.135743 140045351266176 detect.py:35] weights loaded\n",
            "I0427 17:40:15.139658 140045351266176 detect.py:38] classes loaded\n",
            "I0427 17:40:17.010734 140045351266176 detect.py:55] time: 1.8248577117919922\n",
            "I0427 17:40:17.010928 140045351266176 detect.py:57] detections:\n",
            "I0427 17:40:17.012205 140045351266176 detect.py:61] \trefrigerator, 0.5857027769088745, [0.04482481 0.03277367 0.9385493  0.9842579 ]\n",
            "I0427 17:40:17.065625 140045351266176 detect.py:66] output saved to: /content/gitrepo/output.jpg\n"
          ],
          "name": "stdout"
        }
      ]
    },
    {
      "cell_type": "code",
      "metadata": {
        "id": "2yxx6Je_ngM-",
        "colab_type": "code",
        "outputId": "66427978-3a0c-49bf-86dc-71b108f2e275",
        "colab": {
          "base_uri": "https://localhost:8080/",
          "height": 292
        }
      },
      "source": [
        "!python \"/content/gitrepo/detect.py\" --image \"/content/train_images/D2S_033222.jpg\""
      ],
      "execution_count": 0,
      "outputs": [
        {
          "output_type": "stream",
          "text": [
            "2020-04-27 18:07:31.719900: W tensorflow/stream_executor/platform/default/dso_loader.cc:55] Could not load dynamic library 'libnvinfer.so.6'; dlerror: libnvinfer.so.6: cannot open shared object file: No such file or directory; LD_LIBRARY_PATH: /usr/local/nvidia/lib:/usr/local/nvidia/lib64\n",
            "2020-04-27 18:07:31.720043: W tensorflow/stream_executor/platform/default/dso_loader.cc:55] Could not load dynamic library 'libnvinfer_plugin.so.6'; dlerror: libnvinfer_plugin.so.6: cannot open shared object file: No such file or directory; LD_LIBRARY_PATH: /usr/local/nvidia/lib:/usr/local/nvidia/lib64\n",
            "2020-04-27 18:07:31.720064: W tensorflow/compiler/tf2tensorrt/utils/py_utils.cc:30] Cannot dlopen some TensorRT libraries. If you would like to use Nvidia GPU with TensorRT, please make sure the missing libraries mentioned above are installed properly.\n",
            "2020-04-27 18:07:32.752014: I tensorflow/stream_executor/platform/default/dso_loader.cc:44] Successfully opened dynamic library libcuda.so.1\n",
            "2020-04-27 18:07:32.754447: E tensorflow/stream_executor/cuda/cuda_driver.cc:351] failed call to cuInit: CUDA_ERROR_NO_DEVICE: no CUDA-capable device is detected\n",
            "2020-04-27 18:07:32.754500: I tensorflow/stream_executor/cuda/cuda_diagnostics.cc:156] kernel driver does not appear to be running on this host (2d1e1e85d10a): /proc/driver/nvidia/version does not exist\n",
            "2020-04-27 18:07:32.769099: I tensorflow/core/platform/cpu_feature_guard.cc:142] Your CPU supports instructions that this TensorFlow binary was not compiled to use: AVX2 FMA\n",
            "2020-04-27 18:07:32.776295: I tensorflow/core/platform/profile_utils/cpu_utils.cc:94] CPU Frequency: 2300000000 Hz\n",
            "2020-04-27 18:07:32.776572: I tensorflow/compiler/xla/service/service.cc:168] XLA service 0x2932840 initialized for platform Host (this does not guarantee that XLA will be used). Devices:\n",
            "2020-04-27 18:07:32.776609: I tensorflow/compiler/xla/service/service.cc:176]   StreamExecutor device (0): Host, Default Version\n",
            "I0427 18:07:38.970700 140272113518464 detect.py:35] weights loaded\n",
            "I0427 18:07:38.971085 140272113518464 detect.py:38] classes loaded\n",
            "I0427 18:07:41.184618 140272113518464 detect.py:55] time: 2.1962287425994873\n",
            "I0427 18:07:41.184826 140272113518464 detect.py:57] detections:\n",
            "I0427 18:07:41.235498 140272113518464 detect.py:66] output saved to: /content/gitrepo/output.jpg\n"
          ],
          "name": "stdout"
        }
      ]
    },
    {
      "cell_type": "code",
      "metadata": {
        "id": "geCQOHKd0o_-",
        "colab_type": "code",
        "colab": {}
      },
      "source": [
        ""
      ],
      "execution_count": 0,
      "outputs": []
    }
  ]
}